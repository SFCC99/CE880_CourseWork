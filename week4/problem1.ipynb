{
  "cells": [
    {
      "cell_type": "markdown",
      "metadata": {
        "id": "view-in-github",
        "colab_type": "text"
      },
      "source": [
        "<a href=\"https://colab.research.google.com/github/SFCC99/CE880_CourseWork/blob/main/week4/problem1.ipynb\" target=\"_parent\"><img src=\"https://colab.research.google.com/assets/colab-badge.svg\" alt=\"Open In Colab\"/></a>"
      ]
    },
    {
      "cell_type": "markdown",
      "metadata": {
        "id": "Jg_8idnc05je"
      },
      "source": [
        "Before you turn this problem in, make sure everything runs as expected. First, **restart the kernel** (in the menubar, select Kernel$\\rightarrow$Restart) and then **run all cells** (in the menubar, select Cell$\\rightarrow$Run All).\n",
        "\n",
        "Make sure you fill in any place that says `YOUR CODE HERE` or \"YOUR ANSWER HERE\", as well as your name and collaborators below:"
      ]
    },
    {
      "cell_type": "code",
      "execution_count": 1,
      "metadata": {
        "id": "Jn4MMWyk05jh"
      },
      "outputs": [],
      "source": [
        "NAME = \"Santiago Cortés\"\n",
        "COLLABORATORS = \"2100602\""
      ]
    },
    {
      "cell_type": "markdown",
      "metadata": {
        "id": "pJPeq25r05ji"
      },
      "source": [
        "---"
      ]
    },
    {
      "cell_type": "markdown",
      "metadata": {
        "id": "0cE3fljS05ji"
      },
      "source": [
        "---\n",
        "# Welcome to CE880\n",
        "### This is your week-4 : Problem notebook\n",
        "\n",
        "For this problem set, we'll be using the Jupyter notebook and please upload this notebook to [Google Colab](https://colab.research.google.com/). \n",
        "\n",
        "### Task: Complete all the three questions given as follows:"
      ]
    },
    {
      "cell_type": "code",
      "execution_count": 2,
      "metadata": {
        "id": "RFZa1H2i05ji",
        "colab": {
          "base_uri": "https://localhost:8080/"
        },
        "outputId": "72364212-5ea8-4ec4-d028-11ff139af1c2"
      },
      "outputs": [
        {
          "output_type": "stream",
          "name": "stdout",
          "text": [
            "Requirement already satisfied: scikit-learn in /usr/local/lib/python3.7/dist-packages (1.0.2)\n",
            "Requirement already satisfied: joblib>=0.11 in /usr/local/lib/python3.7/dist-packages (from scikit-learn) (1.1.0)\n",
            "Requirement already satisfied: threadpoolctl>=2.0.0 in /usr/local/lib/python3.7/dist-packages (from scikit-learn) (3.1.0)\n",
            "Requirement already satisfied: numpy>=1.14.6 in /usr/local/lib/python3.7/dist-packages (from scikit-learn) (1.21.5)\n",
            "Requirement already satisfied: scipy>=1.1.0 in /usr/local/lib/python3.7/dist-packages (from scikit-learn) (1.4.1)\n"
          ]
        }
      ],
      "source": [
        "# install sklearn package if you are using local computer and if you are using Google Coalb then skip this step\n",
        "!pip install -U scikit-learn"
      ]
    },
    {
      "cell_type": "code",
      "execution_count": 3,
      "metadata": {
        "id": "GgfMXw3V05jj"
      },
      "outputs": [],
      "source": [
        "import pandas as pd\n",
        "import numpy as np\n",
        "from sklearn.cluster import DBSCAN\n",
        "from sklearn.cluster import KMeans\n",
        "from sklearn.datasets import make_circles\n",
        "from sklearn.metrics import adjusted_rand_score\n",
        "from sklearn.preprocessing import StandardScaler\n",
        "from sklearn.metrics import silhouette_score, adjusted_rand_score\n",
        "from sklearn.decomposition import PCA\n",
        "from sklearn import cluster, datasets, metrics\n",
        "from sklearn.model_selection import train_test_split\n",
        "\n",
        "scaler = StandardScaler()"
      ]
    },
    {
      "cell_type": "markdown",
      "metadata": {
        "id": "_ybPj9Xs05jj"
      },
      "source": [
        "---\n",
        "## Question 1: \n",
        "We have already loaded `circle` data for you using `make_circles` function. \n",
        "\n",
        "Write a code to perform `k-means` clustering on `scaled_features` variable and return `silhouette_score` as an output"
      ]
    },
    {
      "cell_type": "code",
      "execution_count": 4,
      "metadata": {
        "deletable": false,
        "nbgrader": {
          "cell_type": "code",
          "checksum": "a9ab2630d1e5dbaec97d46ed0719081a",
          "grade": false,
          "grade_id": "myScore_kmean_ans",
          "locked": false,
          "schema_version": 3,
          "solution": true,
          "task": false
        },
        "id": "YgXqKVIU05jj"
      },
      "outputs": [],
      "source": [
        "# Let's make two moons, where n is the number of samples\n",
        "features, true_labels = make_circles(n_samples=250, noise=0.05, random_state=42)\n",
        "\n",
        "# fit_transform() method is basically the combination of fit method and transform method, \n",
        "# it is equivalent to fit().transform(). This method performs fit and transform on the \n",
        "# input data at a single time and converts the data points. \n",
        "# If we use fit and transform separate when we need both then it \n",
        "# will decrease the efficiency of the model so we use fit_transform() \n",
        "# which will do both the work.\n",
        "scaled_features = scaler.fit_transform(features)\n",
        "myscore = []\n",
        "\n",
        "def myScore_kmean(scaled_features):\n",
        "    \"\"\"Write code to perform k-means clustering and print silhouette_score\"\"\"\n",
        "    # YOUR CODE HERE\n",
        "    km=cluster.KMeans(n_clusters=2)\n",
        "    km.fit_transform(scaled_features)\n",
        "    km.labels_\n",
        "    silhouette_score_1 = metrics.silhouette_score(scaled_features, km.labels_)\n",
        "    silhouette_score1 = float(silhouette_score_1)\n",
        "    silhouette_score1 = round(silhouette_score1,3)\n",
        "    return silhouette_score1\n",
        "    raise NotImplementedError()\n"
      ]
    },
    {
      "cell_type": "code",
      "execution_count": 5,
      "metadata": {
        "deletable": false,
        "editable": false,
        "nbgrader": {
          "cell_type": "code",
          "checksum": "c92069a84d5cd31107bfca82aded8ca5",
          "grade": true,
          "grade_id": "myScore_kmean_test",
          "locked": true,
          "points": 2,
          "schema_version": 3,
          "solution": false,
          "task": false
        },
        "id": "luvTKiv705jj"
      },
      "outputs": [],
      "source": [
        "# Check you solution by running this cell\n",
        "import math\n",
        "assert math.isclose(myScore_kmean(scaled_features), 0.4, rel_tol=0.10)"
      ]
    },
    {
      "cell_type": "markdown",
      "metadata": {
        "id": "39E52dsG05jk"
      },
      "source": [
        "---\n",
        "## Question 2: \n",
        "\n",
        "Write a code to perform `DBSCAN` clustering algorithm on `scaled_features` and return `silhouette_score` as an output. Please set the `eps` = 0.2 and `min_samples` = 5"
      ]
    },
    {
      "cell_type": "code",
      "execution_count": 6,
      "metadata": {
        "deletable": false,
        "nbgrader": {
          "cell_type": "code",
          "checksum": "9460552de971c1962050fbad85b95457",
          "grade": false,
          "grade_id": "myScore_DBSCAN_ans",
          "locked": false,
          "schema_version": 3,
          "solution": true,
          "task": false
        },
        "id": "1z1CIO9705jk"
      },
      "outputs": [],
      "source": [
        "# Let's make two moons, where n is the number of samples\n",
        "from sklearn.datasets import make_moons\n",
        "features, true_labels =  make_moons(n_samples=250, noise=.1,  random_state = 2022)\n",
        "scaled_features = scaler.fit_transform(features)\n",
        "\n",
        "def myScore_DBSCAN(scaled_features):\n",
        "    \"\"\"Write code to perform DBSCAN algorithm and print silhouette_score\"\"\"\n",
        "    # YOUR CODE HERE \n",
        "    dbs = cluster.DBSCAN(eps=0.2, min_samples= 5) \n",
        "    dbs.fit(scaled_features)\n",
        "    dbs.labels_\n",
        "    sil_score1 = metrics.silhouette_score(scaled_features, dbs.labels_)\n",
        "    sil_score2 = float(sil_score1)\n",
        "    sil_score3 = round(sil_score2,3)\n",
        "    return sil_score3\n",
        "    raise NotImplementedError()"
      ]
    },
    {
      "cell_type": "code",
      "execution_count": 7,
      "metadata": {
        "deletable": false,
        "editable": false,
        "nbgrader": {
          "cell_type": "code",
          "checksum": "0535b08a016135b8ef1071ba22d9bbae",
          "grade": true,
          "grade_id": "myScore_DBSCAN_test",
          "locked": true,
          "points": 2,
          "schema_version": 3,
          "solution": false,
          "task": false
        },
        "id": "1l76HW5A05jk"
      },
      "outputs": [],
      "source": [
        "# Check you solution by running this cell\n",
        "assert math.isclose(myScore_DBSCAN(scaled_features), 0.2, rel_tol=0.10)"
      ]
    },
    {
      "cell_type": "markdown",
      "metadata": {
        "id": "RdMjodLo05jk"
      },
      "source": [
        "## Question 3: \n",
        "\n",
        "Complete this code perform `PCA`  on `iris data` and return `explained_variance_ratio_` as an output for the first two principal components (PCs)"
      ]
    },
    {
      "cell_type": "code",
      "execution_count": 8,
      "metadata": {
        "deletable": false,
        "nbgrader": {
          "cell_type": "code",
          "checksum": "dd82ba18e8d651946a4d57e7ad4c6ab6",
          "grade": false,
          "grade_id": "myPCA_ans",
          "locked": false,
          "schema_version": 3,
          "solution": true,
          "task": false
        },
        "id": "QXR2aFtE05jk"
      },
      "outputs": [],
      "source": [
        "import pandas as pd\n",
        "url = \"https://archive.ics.uci.edu/ml/machine-learning-databases/iris/iris.data\"\n",
        "# load dataset into Pandas DataFrame\n",
        "df = pd.read_csv(url, names=['sepal length','sepal width','petal length','petal width','target'])\n",
        "\n",
        "features = ['sepal length', 'sepal width', 'petal length', 'petal width']\n",
        "# Separating out the features\n",
        "x = df.loc[:, features].values\n",
        "# Separating out the target\n",
        "y = df.loc[:,['target']].values\n",
        "# Standardizing the features\n",
        "x = StandardScaler().fit_transform(x)\n",
        "    \n",
        "def myPCA(x):\n",
        "    \"\"\"Complete this code return the explained variance ratio for the first two prinical \n",
        "    components after doing PCA on x \"\"\"\n",
        "    # YOUR CODE HERE\n",
        "    sc = StandardScaler()\n",
        "    x_train, x_test, y_train, y_test = train_test_split(x, y, test_size=0.3, stratify=y, random_state = 50505051)\n",
        "    X_train_std = sc.fit_transform(x_train)\n",
        "    X_test_std = sc.transform(x_test)\n",
        "    pca = PCA(n_components=2)\n",
        "    X_train_pca = pca.fit_transform(X_train_std)\n",
        "    X_test_pca = pca.transform(X_train_std)\n",
        "    pca_res = pca.explained_variance_ratio_    \n",
        "    pca_res = list(pca_res)\n",
        "    return pca_res\n",
        "    raise NotImplementedError()"
      ]
    },
    {
      "cell_type": "code",
      "source": [
        "myPCA(x)"
      ],
      "metadata": {
        "id": "Mc0dSjCw7yy4",
        "colab": {
          "base_uri": "https://localhost:8080/"
        },
        "outputId": "f8726d5e-86f4-4ae0-fb4a-6a8020fbc0f5"
      },
      "execution_count": 9,
      "outputs": [
        {
          "output_type": "execute_result",
          "data": {
            "text/plain": [
              "[0.7273493187109619, 0.23270255580051868]"
            ]
          },
          "metadata": {},
          "execution_count": 9
        }
      ]
    },
    {
      "cell_type": "code",
      "execution_count": 10,
      "metadata": {
        "deletable": false,
        "editable": false,
        "nbgrader": {
          "cell_type": "code",
          "checksum": "2e809b5a12f6124c9a5dd16363dce006",
          "grade": true,
          "grade_id": "myPCA_test",
          "locked": true,
          "points": 2,
          "schema_version": 3,
          "solution": false,
          "task": false
        },
        "id": "JU9aTlcR05jl"
      },
      "outputs": [],
      "source": [
        "# Check you solution by running this cell\n",
        "x= myPCA(x)\n",
        "y = [0.7277045209380135, 0.23030523267680633]\n",
        "np.testing.assert_allclose(x, y, rtol=0.05, atol=0)\n"
      ]
    }
  ],
  "metadata": {
    "kernelspec": {
      "display_name": "Python 3",
      "language": "python",
      "name": "python3"
    },
    "language_info": {
      "codemirror_mode": {
        "name": "ipython",
        "version": 3
      },
      "file_extension": ".py",
      "mimetype": "text/x-python",
      "name": "python",
      "nbconvert_exporter": "python",
      "pygments_lexer": "ipython3",
      "version": "3.7.10"
    },
    "colab": {
      "name": "problem1.ipynb",
      "provenance": [],
      "collapsed_sections": [],
      "include_colab_link": true
    }
  },
  "nbformat": 4,
  "nbformat_minor": 0
}